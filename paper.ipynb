{
 "metadata": {
  "language_info": {
   "codemirror_mode": {
    "name": "ipython",
    "version": 3
   },
   "file_extension": ".py",
   "mimetype": "text/x-python",
   "name": "python",
   "nbconvert_exporter": "python",
   "pygments_lexer": "ipython3",
   "version": "3.6.12-final"
  },
  "orig_nbformat": 2,
  "kernelspec": {
   "name": "python_defaultSpec_1605926344983",
   "display_name": "Python 3.6.12 64-bit ('papermodify': conda)"
  }
 },
 "nbformat": 4,
 "nbformat_minor": 2,
 "cells": [
  {
   "cell_type": "code",
   "execution_count": 1,
   "metadata": {},
   "outputs": [],
   "source": [
    "import docx"
   ]
  },
  {
   "cell_type": "code",
   "execution_count": 2,
   "metadata": {},
   "outputs": [],
   "source": [
    "doc = docx.Document(\"Docs/test_hudoutai.docx\")"
   ]
  },
  {
   "cell_type": "code",
   "execution_count": 9,
   "metadata": {
    "tags": []
   },
   "outputs": [
    {
     "output_type": "stream",
     "name": "stdout",
     "text": "Paragraph: 88\nTables: 6\nGraphs: 9\n"
    }
   ],
   "source": [
    "print(\"Paragraph: {}\".format(len(doc.paragraphs)))\n",
    "print(\"Tables: {}\".format(len(doc.tables)))\n",
    "print(\"Graphs: {}\".format(len(doc.inline_shapes)))"
   ]
  },
  {
   "cell_type": "code",
   "execution_count": 28,
   "metadata": {
    "tags": []
   },
   "outputs": [
    {
     "output_type": "stream",
     "name": "stdout",
     "text": "鉄の不動態被膜\n<docx.text.font.Font object at 0x000001C8903F9438>\n西大和学園高等学校２年　池田　貴大　奥村　仁\n<docx.text.font.Font object at 0x000001C88CDF24A8>\n\n<docx.text.font.Font object at 0x000001C88CDF24A8>\n要約\n<docx.text.font.Font object at 0x000001C88CDF24A8>\n　　今日、鉄製品の中でも建築金具や医療器具などには、高い耐食性のある不動態被膜が形成されている。しかし、不動態被膜は塩化物イオンを含む海水中などの溶液中では破壊される。そこで鉄の不動態被膜の表面に硝酸銀(I)を加えることで、塩化物イオンを除去し不動態の破壊を防げるのではないかと考えた。不動態被膜を破壊する実験では、不動態被膜が形成された鉄片をそれぞれ一定時間食塩水に浸した。結果、不動態被膜を破壊する食塩水の質量%濃度0.00~0.15%の間であると分かった。その後、不動態被膜を破壊する食塩水の濃度をより詳しく正確に求め、硝酸銀を加える実験を行った。結果、計算して求めた適量の硝酸銀を加えることで、不動態被膜の破壊を防ぐことができた。\n<docx.text.font.Font object at 0x000001C88CDF24A8>\n\n<docx.text.font.Font object at 0x000001C88CDF24A8>\nABSTRACT\n<docx.text.font.Font object at 0x000001C88CDF24A8>\n    Recently, a passive state film is formed on many iron products which must be corrosion-resistant, such as building metal fittings and medical equipment. A passive state film is a 1~3nm oxide film formed on the surface of irons by strong acids, which has strong oxidizability, such as concentrated nitric acid and concentrated sulfuric acid. It has strong corrosion resistance, but it is destroyed in liquors with high density of chloride ions, such as sea water. Therefore, we thought that we could remove chloride ions and preserve passive states from corrosion by evaluating the exact density of saline solution which destroys passive states films and by adding enough silver nitrate(I) on the surface of irons. In this experiment, we distinguished whether the passive states were formed or not by adding dilute sulfuric acids and checking whether gas (hydrogen) generated or not. In the second experiment, we destroyed passive states by soaking irons with passive states in saline solution for a certain period of time. As a result, we found that the density of saline solution (percent concentration of mass) was between 0.25% and 0.50%. After that, we conducted another experiment in order to evaluate the more exact density of saline solution which destroys passive states and added silver nitrate(I) on the surface of irons.\n<docx.text.font.Font object at 0x000001C88CDF24A8>\n\n<docx.text.font.Font object at 0x000001C88CDF24A8>\n\n<docx.text.font.Font object at 0x000001C88CDF24A8>\n背景・目的\n<docx.text.font.Font object at 0x000001C88CDF24A8>\n1-1　背景・目的\n<docx.text.font.Font object at 0x000001C88CDF24A8>\n　鉄の腐食による被害は大きく、酸性雨などによる建築物や機械への損害は約２兆5千億円にも及ぶとされている。現在多くの鉄製品には、この腐食を防ぐために不動態被膜が形成されている。不動態被膜とは​、酸化力が強い酸である濃硝酸や濃硫酸によってアルミニウムやクロム、鉄などの特定の金属の表面に作られる1~3nmのFe₃O₄の被膜のことで、高い耐食性を持っている。\n<docx.text.font.Font object at 0x000001C88CDF24A8>\n　また、塗料を鉄の上に塗ることで鉄の腐食を防ぐ方法もよく知られている。しかし、現在多く使用されている塗料は塗り直す必要があるため価格が高い。また塗料の中には有機溶剤を使う油性塗料や有毒物質を含むウレタン樹脂塗料など、健康や環境に対して悪影響を与えるものも多い。それに対して不動態被膜は安定性が高く、一度形成すれば破壊されにくい。また、不動態被膜は剥離しないため環境に対して無害であるうえ人体への影響も少ない。しかし、このような有用な不動態被膜にも欠点があり、不動態被膜は酸性雨中に多く含まれる塩化物イオンや臭化物イオンなどによって破壊される⁽¹⁾ ⁽²⁾。そこで、塩化物イオンを除去することで、鉄製品に形成される不動態被膜の破壊を防ぐことができると考えた。これらのイオンと反応し除去することができる物質として銀イオンがあげられるため、今回は銀イオンを含む硝酸銀(I)を用いて鉄の不動態被膜の破壊を防ぐことができるのではないかと考えた。\n<docx.text.font.Font object at 0x000001C88CDF24A8>\n\n<docx.text.font.Font object at 0x000001C88CDF24A8>\n1-2　実験概要\n<docx.text.font.Font object at 0x000001C88CDF24A8>\n　実験Ⅰでは、実際に不動態皮膜を形成し、不動態皮膜が破壊されているかされていないかの判断方法を確認した。\n<docx.text.font.Font object at 0x000001C88CDF24A8>\n　実験Ⅱでは、実験Ⅰの判別方法を用いて不動態皮膜を破壊できる食塩水の濃度を求めた。\n<docx.text.font.Font object at 0x000001C88CDF24A8>\n　実験Ⅲでは、実験Ⅱで求めた不動態皮膜が破壊される濃度の食塩水において、硝酸銀を用いて不動態皮膜の破壊を防ぐことができるかを見た。\n<docx.text.font.Font object at 0x000001C88CDF24A8>\n\n<docx.text.font.Font object at 0x000001C88CDF24A8>\n　\n<docx.text.font.Font object at 0x000001C88CDF24A8>\n実験Ⅰ\n<docx.text.font.Font object at 0x000001C88F368470>\n目的\n<docx.text.font.Font object at 0x000001C88F368470>\n　不動態被膜が濃硫酸によって形成できるかどうか、また不動態皮膜が破壊されていないか・破壊されているかを希硫酸で判断できるかどうかを実験した。\n<docx.text.font.Font object at 0x000001C88F368470>\n\n<docx.text.font.Font object at 0x000001C88F368470>\n実験方法\n<docx.text.font.Font object at 0x000001C88F368470>\n　2つの鉄片の表面に軽くヤスリをかけ表面の酸化被膜を削った後、そのうちの1つは8mLの濃硫酸に浸し、不動態被膜を形成した。これを鉄片①とする。また、もう一つの鉄片は蒸留水に浸した。これを鉄片②とする。その後２つの鉄片を蒸留水で洗い、十分に乾かした。その両方の鉄片を8mLの希硫酸に20分間浸し、気体(水素)の発生を目視で確認した。\n<docx.text.font.Font object at 0x000001C88F368470>\n\n<docx.text.font.Font object at 0x000001C88F368470>\n実験結果\n<docx.text.font.Font object at 0x000001C88F368470>\n　実験Ⅰを行い、鉄片の表面を目視で確認した結果、鉄片①からは気体が発生しなかった。また、鉄片②からは気体が発生した。\n<docx.text.font.Font object at 0x000001C88F368470>\n\n<docx.text.font.Font object at 0x000001C88F368470>\n\n<docx.text.font.Font object at 0x000001C88F368470>\n考察\n<docx.text.font.Font object at 0x000001C88F368470>\n　実験より、濃硫酸に浸した後希硫酸を加えた鉄片は希硫酸と反応しなかったことにより、濃硫酸を加えることで不動態被膜が形成されたと考えられる。また、希硫酸に浸した時に発生した気体は水素であり、この時の化学反応式は\n<docx.text.font.Font object at 0x000001C88F368470>\n Fe+H₂SO₄→FeSO₄+H₂\n<docx.text.font.Font object at 0x000001C88F368470>\nで表すことができる。以上より、不動態被膜が形成されているかどうか、実験Ⅰの方法で確かめることができると分かった。実験Ⅱ以降では不動態被膜が破壊されているかどうかは希硫酸8mLを加えて気体が発生しているかどうかで確認した。また、鉄片の表面に軽くヤスリをかけ表面の酸化鉄を削り取り、その後濃硫酸8mLを鉄片に加えることで不動態被膜を形成した。\n<docx.text.font.Font object at 0x000001C88F368470>\n\n<docx.text.font.Font object at 0x000001C88F368470>\n実験Ⅱ\n<docx.text.font.Font object at 0x000001C88F368470>\n目的\n<docx.text.font.Font object at 0x000001C88F368470>\n　実験Ⅲで用いる硝酸銀(I)の量を最低限にするため、不動態被膜が破壊される最低の食塩水濃度を調べた。\n<docx.text.font.Font object at 0x000001C88F368470>\n\n<docx.text.font.Font object at 0x000001C88F368470>\n実験方法\n<docx.text.font.Font object at 0x000001C88F368470>\n　質量％濃度が1.0%の塩化ナトリウム水溶液①、0.75%の塩化ナトリウム水溶液②、0.50%の塩化ナトリウム水溶液③、0.25%の塩化ナトリウム水溶液④、0.15%の塩化ナトリウム水溶液⑤、および塩化ナトリウムを加えないもの(蒸留水)⑥を各々40mL作成した。その後それぞれの塩化ナトリウム水溶液に不動態被膜を形成した鉄片を加え、40分間放置した後取り出して、表面を軽く拭いてから不動態が破壊されたかどうかを判断した。\n<docx.text.font.Font object at 0x000001C88F368470>\n\n<docx.text.font.Font object at 0x000001C88F368470>\n実験結果\n<docx.text.font.Font object at 0x000001C88F368470>\n　実験の結果、一回目の実験では塩化ナトリウム水溶液の質量%濃1.0%,0.75%,0.50%,0.25%,0.15%では気体が発生したが、質量％濃度0.00%(蒸留水)では気体は発生しなかった。\n<docx.text.font.Font object at 0x000001C88F368470>\nまた、二回目の実験では塩化ナトリウム水溶液の質量%濃度1.0%,0.75%,0.50%,0.15%では気体が発生したが、質量％濃度0.25%,0.00%(蒸留水)では気体は発生しなかった。\n<docx.text.font.Font object at 0x000001C88F368470>\n\n<docx.text.font.Font object at 0x000001C88F368470>\n表 2　実験Ⅱでの塩化ナトリウム水溶液濃度と気体の発生の有無の関係\n<docx.text.font.Font object at 0x000001C88F368470>\n\n<docx.text.font.Font object at 0x000001C88F368470>\n食塩水の質量％濃度0.25%の時、一回目の実験では気体が発生したが、二回目の実験では気体は発生しなかった。\n<docx.text.font.Font object at 0x000001C88F368470>\n\n<docx.text.font.Font object at 0x000001C88F368470>\n考察\n<docx.text.font.Font object at 0x000001C88F368470>\n　実験Ⅱより、不動態被膜を破壊する食塩水の質量％濃度の最小の値 x は一回目の実験より0.0​% 　＜  x ＜　0.15%​であると分かった。二回目の実験では塩化ナトリウム水溶液の質量％濃度0.25%では気体が発生しなかったが、塩化ナトリウム水溶液の質量％濃度0.15%では気体が発生したことを考慮すると、鉄片のヤスリがけが十分でなく酸化鉄が削られておらず、濃硫酸、希硫酸と反応しなかったことが原因と推定できる。\n<docx.text.font.Font object at 0x000001C88F368470>\n\n<docx.text.font.Font object at 0x000001C88F368470>\n\n<docx.text.font.Font object at 0x000001C88F368470>\n実験Ⅲ\n<docx.text.font.Font object at 0x000001C88F368470>\n目的\n<docx.text.font.Font object at 0x000001C88F368470>\n　不動態被膜が形成された鉄に硝酸銀(I)を加え、食塩水中でも不動態被膜が保護されるかどうかを見た。\n<docx.text.font.Font object at 0x000001C88F368470>\n\n<docx.text.font.Font object at 0x000001C88F368470>\n実験方法\n<docx.text.font.Font object at 0x000001C88F368470>\n　実験Ⅰの方法で鉄片に不動態被膜を形成した。不動態被膜の有無を確認した後、40mLの塩化ナトリウム水溶液③に浸すと同時に硝酸銀(I)を0.30g加えて40分間放置した。これを取り出し表面を軽く拭いた後、不動態被膜の破壊が防がれたかどうかを判断した。\n<docx.text.font.Font object at 0x000001C88F368470>\n\n<docx.text.font.Font object at 0x000001C88F368470>\n実験結果\n<docx.text.font.Font object at 0x000001C88F368470>\n　実験の結果、鉄片から気体は発生しなかった。\n<docx.text.font.Font object at 0x000001C88F368470>\n\n<docx.text.font.Font object at 0x000001C88F368470>\n考察\n<docx.text.font.Font object at 0x000001C88F368470>\n　実験Ⅲにおいては気体が発生しなかった。そのため、硝酸銀(I)を用いて塩化物イオンを除去することによって不動態被膜の破壊を防ぐことができた。この過程は塩化銀の白色沈殿が生じる、次の化学式によって説明できる。\n<docx.text.font.Font object at 0x000001C88F368470>\n　AgNO₃ ＋ NaCl →AgCl + NaNO₃\n<docx.text.font.Font object at 0x000001C88F368470>\nまた図6で、鉄片の表面に生じている褐色の沈殿は、鉄片に含まれる不純物と硝酸イオンが結合したものや、不純物を含んだ塩化銀であると考えられる。\n<docx.text.font.Font object at 0x000001C88F368470>\n\n<docx.text.font.Font object at 0x000001C88F368470>\n第5章　展望\n<docx.text.font.Font object at 0x000001C88F368470>\n　今回の実験を行った結果、硝酸銀(I)を用いて不動態被膜の破壊を防ぐことができると分かった。しかし、硝酸銀(I)と塩化物イオンの反応過程で塩化銀(Ⅰ)の白色沈殿が生じるため、金属の表面が変色したように見えてしまい、実用化することは難しいことや、硝酸銀(I)は固体であり、鉄片の不動態被膜の表面上でどのように均一に反応させるかなどは、今後考えていく必要がある。　　　\n<docx.text.font.Font object at 0x000001C88F368470>\n\n<docx.text.font.Font object at 0x000001C88F368470>\n[謝辞]\n<docx.text.font.Font object at 0x000001C88F368470>\n本実験を行うにあたり、実験に対する助言をくださり、また論文やポスターの添削をしていただいた先生方、そしてSSHのTA方に対してお礼を申し上げます。ありがとうございました。\n<docx.text.font.Font object at 0x000001C88F368470>\n\n<docx.text.font.Font object at 0x000001C88F368470>\n[参考文献]\n<docx.text.font.Font object at 0x000001C88F368470>\n\n<docx.text.font.Font object at 0x000001C88F368470>\n　[1]佐藤教男「不働態被膜」(1968) j-stage\n<docx.text.font.Font object at 0x000001C88F368470>\nhttps://www.jstage.jst.go.jp/article/materia1962/7/10/7_10_617/_pdf\n<docx.text.font.Font object at 0x000001C88F368470>\n　[2]丹野和夫「腐食は何故起るのかー腐食のメカニズムと防止法-」(1996) j-stage\n<docx.text.font.Font object at 0x000001C88F368470>\nhttps://www.jstage.jst.go.jp/article/tsj1973/24/5/24_5_257/_pdf\n<docx.text.font.Font object at 0x000001C88F368470>\n　[3]岡田達弘「不働態被膜の局部的破壊 と孔食-動力学的過程」(1987) j-stage\n<docx.text.font.Font object at 0x000001C88F368470>\nhttps://www.jstage.jst.go.jp/article/jcorr1974/36/6/36_6_383/_pdf\n<docx.text.font.Font object at 0x000001C88F368470>\n\n<docx.text.font.Font object at 0x000001C88F368470>\n \n<docx.text.font.Font object at 0x000001C88F368470>\n\n<docx.text.font.Font object at 0x000001C88F368470>\n"
    }
   ],
   "source": [
    "for p in doc.paragraphs:\n",
    "    print(p.text)\n",
    "    print(p.style.)"
   ]
  },
  {
   "cell_type": "code",
   "execution_count": 26,
   "metadata": {
    "tags": []
   },
   "outputs": [
    {
     "output_type": "stream",
     "name": "stdout",
     "text": "_ParagraphStyle('normal') id: 1960908016384\n_TableStyle('Table Normal') id: 1960868521128\n_ParagraphStyle('Heading 1') id: 1960908016384\n_ParagraphStyle('Heading 2') id: 1960868521128\n_ParagraphStyle('Heading 3') id: 1960908016384\n_ParagraphStyle('Heading 4') id: 1960868521128\n_ParagraphStyle('Heading 5') id: 1960908016384\n_ParagraphStyle('Heading 6') id: 1960868521128\n_ParagraphStyle('Title') id: 1960908016384\n_ParagraphStyle('Subtitle') id: 1960868521128\n_TableStyle('None') id: 1960908016384\n_TableStyle('None') id: 1960868521128\n_TableStyle('None') id: 1960908016384\n_TableStyle('None') id: 1960868521128\n_TableStyle('None') id: 1960908014592\n_TableStyle('None') id: 1960868521128\n_TableStyle('None') id: 1960908014592\n"
    }
   ],
   "source": [
    "for s in doc.styles:\n",
    "    print(s)"
   ]
  },
  {
   "cell_type": "code",
   "execution_count": null,
   "metadata": {},
   "outputs": [],
   "source": []
  }
 ]
}