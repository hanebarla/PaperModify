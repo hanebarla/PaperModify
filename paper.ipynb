{
 "metadata": {
  "language_info": {
   "codemirror_mode": {
    "name": "ipython",
    "version": 3
   },
   "file_extension": ".py",
   "mimetype": "text/x-python",
   "name": "python",
   "nbconvert_exporter": "python",
   "pygments_lexer": "ipython3",
   "version": "3.6.12-final"
  },
  "orig_nbformat": 2,
  "kernelspec": {
   "name": "python3",
   "display_name": "Python 3.6.12 64-bit ('papermodify': conda)",
   "metadata": {
    "interpreter": {
     "hash": "6b6c849fe1b30f7ac12a12c7c2c7efdf0c60e44cc6ec79146bd838e4980d49d0"
    }
   }
  }
 },
 "nbformat": 4,
 "nbformat_minor": 2,
 "cells": [
  {
   "cell_type": "code",
   "execution_count": 1,
   "metadata": {},
   "outputs": [],
   "source": [
    "import docx"
   ]
  },
  {
   "cell_type": "code",
   "execution_count": 2,
   "metadata": {},
   "outputs": [],
   "source": [
    "doc = docx.Document(\"Docs/R2論文フォーマット.docx\")"
   ]
  },
  {
   "cell_type": "code",
   "execution_count": 3,
   "metadata": {
    "tags": []
   },
   "outputs": [
    {
     "output_type": "stream",
     "name": "stdout",
     "text": [
      "Paragraph: 52\nTables: 4\nGraphs: 2\n"
     ]
    }
   ],
   "source": [
    "print(\"Paragraph: {}\".format(len(doc.paragraphs)))\n",
    "print(\"Tables: {}\".format(len(doc.tables)))\n",
    "print(\"Graphs: {}\".format(len(doc.inline_shapes)))"
   ]
  },
  {
   "cell_type": "code",
   "execution_count": 4,
   "metadata": {
    "tags": []
   },
   "outputs": [
    {
     "output_type": "stream",
     "name": "stdout",
     "text": [
      "<docx.text.paragraph.Paragraph object at 0x0000024E2E0114A8>\n<docx.text.paragraph.Paragraph object at 0x0000024E2E0115F8>\n<docx.text.paragraph.Paragraph object at 0x0000024E2E011550>\n<docx.text.paragraph.Paragraph object at 0x0000024E2E011588>\n<docx.text.paragraph.Paragraph object at 0x0000024E2E0113C8>\n<docx.text.paragraph.Paragraph object at 0x0000024E2E011438>\n<docx.text.paragraph.Paragraph object at 0x0000024E2E0112E8>\n<docx.text.paragraph.Paragraph object at 0x0000024E2E011668>\n<docx.text.paragraph.Paragraph object at 0x0000024E2E011518>\n<docx.text.paragraph.Paragraph object at 0x0000024E2E011630>\n<docx.text.paragraph.Paragraph object at 0x0000024E2E0115C0>\n<docx.text.paragraph.Paragraph object at 0x0000024E2E011828>\n<docx.text.paragraph.Paragraph object at 0x0000024E2E011780>\n<docx.text.paragraph.Paragraph object at 0x0000024E2E011710>\n<docx.text.paragraph.Paragraph object at 0x0000024E2E011748>\n<docx.text.paragraph.Paragraph object at 0x0000024E2E0116A0>\n<docx.text.paragraph.Paragraph object at 0x0000024E2E0116D8>\n<docx.text.paragraph.Paragraph object at 0x0000024E2E011898>\n<docx.text.paragraph.Paragraph object at 0x0000024E2DFF6E10>\n<docx.text.paragraph.Paragraph object at 0x0000024E2DFF6DD8>\n<docx.text.paragraph.Paragraph object at 0x0000024E2DFF6D68>\n<docx.text.paragraph.Paragraph object at 0x0000024E2DFF6CC0>\n<docx.text.paragraph.Paragraph object at 0x0000024E2DFEE4A8>\n<docx.text.paragraph.Paragraph object at 0x0000024E2DFEE4E0>\n<docx.text.paragraph.Paragraph object at 0x0000024E2E024710>\n<docx.text.paragraph.Paragraph object at 0x0000024E2E024E48>\n<docx.text.paragraph.Paragraph object at 0x0000024E2E024E80>\n<docx.text.paragraph.Paragraph object at 0x0000024E2E024EB8>\n<docx.text.paragraph.Paragraph object at 0x0000024E2E024EF0>\n<docx.text.paragraph.Paragraph object at 0x0000024E2E024F28>\n<docx.text.paragraph.Paragraph object at 0x0000024E2E024F60>\n<docx.text.paragraph.Paragraph object at 0x0000024E2E024F98>\n<docx.text.paragraph.Paragraph object at 0x0000024E2E024FD0>\n<docx.text.paragraph.Paragraph object at 0x0000024E2E02F048>\n<docx.text.paragraph.Paragraph object at 0x0000024E2E02F080>\n<docx.text.paragraph.Paragraph object at 0x0000024E2E02F0B8>\n<docx.text.paragraph.Paragraph object at 0x0000024E2E02F0F0>\n<docx.text.paragraph.Paragraph object at 0x0000024E2E02F128>\n<docx.text.paragraph.Paragraph object at 0x0000024E2E02F160>\n<docx.text.paragraph.Paragraph object at 0x0000024E2E02F198>\n<docx.text.paragraph.Paragraph object at 0x0000024E2E02F1D0>\n<docx.text.paragraph.Paragraph object at 0x0000024E2E02F208>\n<docx.text.paragraph.Paragraph object at 0x0000024E2E02F240>\n<docx.text.paragraph.Paragraph object at 0x0000024E2E02F278>\n<docx.text.paragraph.Paragraph object at 0x0000024E2E02F2B0>\n<docx.text.paragraph.Paragraph object at 0x0000024E2E02F2E8>\n<docx.text.paragraph.Paragraph object at 0x0000024E2E02F320>\n<docx.text.paragraph.Paragraph object at 0x0000024E2E02F358>\n<docx.text.paragraph.Paragraph object at 0x0000024E2E02F390>\n<docx.text.paragraph.Paragraph object at 0x0000024E2E02F3C8>\n<docx.text.paragraph.Paragraph object at 0x0000024E2E02F400>\n<docx.text.paragraph.Paragraph object at 0x0000024E2E02F438>\n"
     ]
    }
   ],
   "source": [
    "for p in doc.paragraphs:\n",
    "    print(p)"
   ]
  },
  {
   "cell_type": "code",
   "execution_count": 5,
   "metadata": {
    "tags": []
   },
   "outputs": [
    {
     "output_type": "stream",
     "name": "stdout",
     "text": [
      "<docx.table.Table object at 0x0000024E2E0116A0>\n<docx.table.Table object at 0x0000024E2E0116D8>\n<docx.table.Table object at 0x0000024E2E011898>\n<docx.table.Table object at 0x0000024E2DFF6E10>\n"
     ]
    }
   ],
   "source": [
    "for t in doc.tables:\n",
    "    print(t)"
   ]
  },
  {
   "cell_type": "code",
   "execution_count": 6,
   "metadata": {},
   "outputs": [
    {
     "output_type": "stream",
     "name": "stdout",
     "text": [
      "<docx.shape.InlineShape object at 0x0000024E2E024EF0>\n<docx.shape.InlineShape object at 0x0000024E2E024F60>\n"
     ]
    }
   ],
   "source": [
    "for g in doc.inline_shapes:\n",
    "    print(g)"
   ]
  },
  {
   "cell_type": "code",
   "execution_count": 10,
   "metadata": {},
   "outputs": [
    {
     "output_type": "stream",
     "name": "stdout",
     "text": [
      "['Normal', '副タイトル', '標準（中央）', '目タイトル', '章タイトル', '節タイトル', '論文タイトル', '謝辞・参考文献', '項タイトル']\n"
     ]
    }
   ],
   "source": [
    "sty_names = set()\n",
    "sty = []\n",
    "for para in doc.paragraphs:\n",
    "    sty.append(para.style)\n",
    "    sty_names.add(para.style.name)\n",
    "print(sorted(sty_names))"
   ]
  },
  {
   "cell_type": "code",
   "execution_count": 11,
   "metadata": {},
   "outputs": [],
   "source": [
    "wrong = docx.Document(\"Docs/wrong_test.docx\")"
   ]
  },
  {
   "cell_type": "code",
   "execution_count": 14,
   "metadata": {},
   "outputs": [
    {
     "output_type": "stream",
     "name": "stdout",
     "text": [
      "副タイトル\n副タイトル\n副タイトル\n副タイトル\n副タイトル\n副タイトル\n副タイトル\n副タイトル\n副タイトル\n副タイトル\n副タイトル\n副タイトル\n副タイトル\n副タイトル\n副タイトル\n副タイトル\n副タイトル\n副タイトル\n副タイトル\n副タイトル\n副タイトル\n副タイトル\n副タイトル\n副タイトル\n副タイトル\n副タイトル\n副タイトル\n副タイトル\n副タイトル\n副タイトル\n副タイトル\n副タイトル\n副タイトル\n副タイトル\n副タイトル\n副タイトル\n副タイトル\n副タイトル\n副タイトル\n副タイトル\n副タイトル\n副タイトル\n副タイトル\n副タイトル\n副タイトル\n副タイトル\n副タイトル\n副タイトル\n副タイトル\n副タイトル\n副タイトル\n副タイトル\n副タイトル\n副タイトル\n副タイトル\n副タイトル\n副タイトル\n副タイトル\n副タイトル\n副タイトル\n副タイトル\n副タイトル\n副タイトル\n副タイトル\n副タイトル\n副タイトル\n副タイトル\n副タイトル\n副タイトル\n副タイトル\n副タイトル\n副タイトル\n副タイトル\n副タイトル\n副タイトル\n副タイトル\n副タイトル\n副タイトル\n副タイトル\n副タイトル\n副タイトル\n副タイトル\n副タイトル\n副タイトル\n副タイトル\n副タイトル\n副タイトル\n副タイトル\n"
     ]
    }
   ],
   "source": [
    "for p in wrong.paragraphs:\n",
    "    p.style = sty[6]\n",
    "    print(sty[1].name)\n",
    "wrong.save(\"Docs/wrong_test_modufy.docx\")"
   ]
  },
  {
   "cell_type": "code",
   "execution_count": 9,
   "metadata": {},
   "outputs": [],
   "source": [
    "doc.save(\"Docs/sample.docx\")"
   ]
  },
  {
   "cell_type": "code",
   "execution_count": null,
   "metadata": {},
   "outputs": [],
   "source": []
  }
 ]
}