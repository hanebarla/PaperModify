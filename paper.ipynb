{
 "metadata": {
  "language_info": {
   "codemirror_mode": {
    "name": "ipython",
    "version": 3
   },
   "file_extension": ".py",
   "mimetype": "text/x-python",
   "name": "python",
   "nbconvert_exporter": "python",
   "pygments_lexer": "ipython3",
   "version": "3.6.12-final"
  },
  "orig_nbformat": 2,
  "kernelspec": {
   "name": "python3",
   "display_name": "Python 3.6.12 64-bit ('papermodify': conda)",
   "metadata": {
    "interpreter": {
     "hash": "6b6c849fe1b30f7ac12a12c7c2c7efdf0c60e44cc6ec79146bd838e4980d49d0"
    }
   }
  }
 },
 "nbformat": 4,
 "nbformat_minor": 2,
 "cells": [
  {
   "cell_type": "code",
   "execution_count": 1,
   "metadata": {},
   "outputs": [],
   "source": [
    "import docx"
   ]
  },
  {
   "cell_type": "code",
   "execution_count": 2,
   "metadata": {},
   "outputs": [],
   "source": [
    "doc = docx.Document(\"Docs/test_hudoutai.docx\")"
   ]
  },
  {
   "cell_type": "code",
   "execution_count": 3,
   "metadata": {
    "tags": []
   },
   "outputs": [
    {
     "output_type": "stream",
     "name": "stdout",
     "text": [
      "Paragraph: 88\nTables: 6\nGraphs: 9\n"
     ]
    }
   ],
   "source": [
    "print(\"Paragraph: {}\".format(len(doc.paragraphs)))\n",
    "print(\"Tables: {}\".format(len(doc.tables)))\n",
    "print(\"Graphs: {}\".format(len(doc.inline_shapes)))"
   ]
  },
  {
   "cell_type": "code",
   "execution_count": 7,
   "metadata": {
    "tags": []
   },
   "outputs": [
    {
     "output_type": "stream",
     "name": "stdout",
     "text": [
      "<docx.text.paragraph.Paragraph object at 0x0000018662CFFC18>\n<docx.text.paragraph.Paragraph object at 0x0000018663D0DEF0>\n<docx.text.paragraph.Paragraph object at 0x0000018663D0DDA0>\n<docx.text.paragraph.Paragraph object at 0x0000018663D0D0F0>\n<docx.text.paragraph.Paragraph object at 0x0000018663D0DE48>\n<docx.text.paragraph.Paragraph object at 0x0000018663D0DE80>\n<docx.text.paragraph.Paragraph object at 0x0000018663D0DFD0>\n<docx.text.paragraph.Paragraph object at 0x0000018663D0D6D8>\n<docx.text.paragraph.Paragraph object at 0x0000018663D0D908>\n<docx.text.paragraph.Paragraph object at 0x0000018663D0D8D0>\n<docx.text.paragraph.Paragraph object at 0x0000018663D0D160>\n<docx.text.paragraph.Paragraph object at 0x0000018663D0D208>\n<docx.text.paragraph.Paragraph object at 0x0000018663D0D080>\n<docx.text.paragraph.Paragraph object at 0x0000018663D0D4A8>\n<docx.text.paragraph.Paragraph object at 0x0000018663D0D3C8>\n<docx.text.paragraph.Paragraph object at 0x0000018663D0D240>\n<docx.text.paragraph.Paragraph object at 0x0000018663D0D390>\n<docx.text.paragraph.Paragraph object at 0x0000018663D0D1D0>\n<docx.text.paragraph.Paragraph object at 0x0000018663D0D320>\n<docx.text.paragraph.Paragraph object at 0x0000018663D0D128>\n<docx.text.paragraph.Paragraph object at 0x0000018663D0D278>\n<docx.text.paragraph.Paragraph object at 0x0000018663D0D438>\n<docx.text.paragraph.Paragraph object at 0x0000018663D0D358>\n<docx.text.paragraph.Paragraph object at 0x0000018663D0D2E8>\n<docx.text.paragraph.Paragraph object at 0x0000018663D0D470>\n<docx.text.paragraph.Paragraph object at 0x0000018663D0D2B0>\n<docx.text.paragraph.Paragraph object at 0x0000018663D0D550>\n<docx.text.paragraph.Paragraph object at 0x0000018663D0D518>\n<docx.text.paragraph.Paragraph object at 0x0000018663D0D400>\n<docx.text.paragraph.Paragraph object at 0x0000018663D0D710>\n<docx.text.paragraph.Paragraph object at 0x0000018663D0D588>\n<docx.text.paragraph.Paragraph object at 0x0000018663D0D4E0>\n<docx.text.paragraph.Paragraph object at 0x0000018663D0D5F8>\n<docx.text.paragraph.Paragraph object at 0x0000018663D0D978>\n<docx.text.paragraph.Paragraph object at 0x0000018663D0D048>\n<docx.text.paragraph.Paragraph object at 0x0000018663D0D668>\n<docx.text.paragraph.Paragraph object at 0x0000018663D0D198>\n<docx.text.paragraph.Paragraph object at 0x0000018663D0D6A0>\n<docx.text.paragraph.Paragraph object at 0x0000018663D0DE10>\n<docx.text.paragraph.Paragraph object at 0x0000018663D0DA90>\n<docx.text.paragraph.Paragraph object at 0x0000018663D0D9B0>\n<docx.text.paragraph.Paragraph object at 0x0000018663D0DA58>\n<docx.text.paragraph.Paragraph object at 0x0000018663D0DAC8>\n<docx.text.paragraph.Paragraph object at 0x0000018663D0DA20>\n<docx.text.paragraph.Paragraph object at 0x0000018663D0DC88>\n<docx.text.paragraph.Paragraph object at 0x0000018663D0D9E8>\n<docx.text.paragraph.Paragraph object at 0x0000018663D0D940>\n<docx.text.paragraph.Paragraph object at 0x0000018663D0DB70>\n<docx.text.paragraph.Paragraph object at 0x0000018663D0DBA8>\n<docx.text.paragraph.Paragraph object at 0x0000018663D0DBE0>\n<docx.text.paragraph.Paragraph object at 0x0000018663D0D630>\n<docx.text.paragraph.Paragraph object at 0x0000018663D0DC50>\n<docx.text.paragraph.Paragraph object at 0x0000018663D0DC18>\n<docx.text.paragraph.Paragraph object at 0x0000018663D0DCC0>\n<docx.text.paragraph.Paragraph object at 0x0000018663D0DD68>\n<docx.text.paragraph.Paragraph object at 0x0000018663D0DB38>\n<docx.text.paragraph.Paragraph object at 0x0000018663D0DCF8>\n<docx.text.paragraph.Paragraph object at 0x0000018663D0DF98>\n<docx.text.paragraph.Paragraph object at 0x0000018663D0DDD8>\n<docx.text.paragraph.Paragraph object at 0x0000018663D0DD30>\n<docx.text.paragraph.Paragraph object at 0x0000018663D0DF60>\n<docx.text.paragraph.Paragraph object at 0x0000018663D0DF28>\n<docx.text.paragraph.Paragraph object at 0x0000018663D0D0B8>\n<docx.text.paragraph.Paragraph object at 0x0000018663D0DB00>\n<docx.text.paragraph.Paragraph object at 0x0000018663D0DEB8>\n<docx.text.paragraph.Paragraph object at 0x0000018663D0BBA8>\n<docx.text.paragraph.Paragraph object at 0x0000018663D0BB70>\n<docx.text.paragraph.Paragraph object at 0x0000018663D0BEB8>\n<docx.text.paragraph.Paragraph object at 0x0000018663D0B7B8>\n<docx.text.paragraph.Paragraph object at 0x0000018663D0B320>\n<docx.text.paragraph.Paragraph object at 0x0000018663D0B128>\n<docx.text.paragraph.Paragraph object at 0x0000018663D0B0F0>\n<docx.text.paragraph.Paragraph object at 0x0000018663D0B400>\n<docx.text.paragraph.Paragraph object at 0x0000018663D0B1D0>\n<docx.text.paragraph.Paragraph object at 0x0000018663D0B438>\n<docx.text.paragraph.Paragraph object at 0x0000018663D0B208>\n<docx.text.paragraph.Paragraph object at 0x0000018663D0B0B8>\n<docx.text.paragraph.Paragraph object at 0x0000018663D0B518>\n<docx.text.paragraph.Paragraph object at 0x0000018663D0B198>\n<docx.text.paragraph.Paragraph object at 0x0000018663D0B080>\n<docx.text.paragraph.Paragraph object at 0x0000018663D0B160>\n<docx.text.paragraph.Paragraph object at 0x0000018663D0B5C0>\n<docx.text.paragraph.Paragraph object at 0x0000018663D0B278>\n<docx.text.paragraph.Paragraph object at 0x0000018663D0B240>\n<docx.text.paragraph.Paragraph object at 0x0000018663D0B048>\n<docx.text.paragraph.Paragraph object at 0x0000018663D0B9B0>\n<docx.text.paragraph.Paragraph object at 0x0000018663D0B2E8>\n<docx.text.paragraph.Paragraph object at 0x0000018663D0B4E0>\n"
     ]
    }
   ],
   "source": [
    "for p in doc.paragraphs:\n",
    "    print(p)"
   ]
  },
  {
   "cell_type": "code",
   "execution_count": 6,
   "metadata": {
    "tags": []
   },
   "outputs": [
    {
     "output_type": "stream",
     "name": "stdout",
     "text": [
      "<docx.table.Table object at 0x0000018663CF9748>\n<docx.table.Table object at 0x0000018663CF9A20>\n<docx.table.Table object at 0x0000018663CF9B70>\n<docx.table.Table object at 0x0000018663CF9CC0>\n<docx.table.Table object at 0x0000018663CF9D30>\n<docx.table.Table object at 0x0000018663CF9940>\n"
     ]
    }
   ],
   "source": [
    "for t in doc.tables:\n",
    "    print(t)"
   ]
  },
  {
   "cell_type": "code",
   "execution_count": 8,
   "metadata": {},
   "outputs": [
    {
     "output_type": "stream",
     "name": "stdout",
     "text": [
      "<docx.shape.InlineShape object at 0x0000018663D0D128>\n<docx.shape.InlineShape object at 0x0000018663D0DE48>\n<docx.shape.InlineShape object at 0x0000018663D0D128>\n<docx.shape.InlineShape object at 0x0000018663D0DE48>\n<docx.shape.InlineShape object at 0x0000018663D0D128>\n<docx.shape.InlineShape object at 0x0000018663D0DE48>\n<docx.shape.InlineShape object at 0x0000018663D0D128>\n<docx.shape.InlineShape object at 0x0000018663D0DE48>\n<docx.shape.InlineShape object at 0x0000018663D0D128>\n"
     ]
    }
   ],
   "source": [
    "for g in doc.inline_shapes:\n",
    "    print(g)"
   ]
  },
  {
   "cell_type": "code",
   "execution_count": 9,
   "metadata": {},
   "outputs": [],
   "source": [
    "doc.save(\"Docs/sample.docx\")"
   ]
  },
  {
   "cell_type": "code",
   "execution_count": null,
   "metadata": {},
   "outputs": [],
   "source": []
  }
 ]
}